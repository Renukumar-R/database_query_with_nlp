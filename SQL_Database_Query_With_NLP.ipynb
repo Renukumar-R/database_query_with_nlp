{
  "nbformat": 4,
  "nbformat_minor": 0,
  "metadata": {
    "colab": {
      "provenance": [],
      "authorship_tag": "ABX9TyOrwTLt5mfvYa1/acBzde8T",
      "include_colab_link": true
    },
    "kernelspec": {
      "name": "python3",
      "display_name": "Python 3"
    },
    "language_info": {
      "name": "python"
    }
  },
  "cells": [
    {
      "cell_type": "markdown",
      "metadata": {
        "id": "view-in-github",
        "colab_type": "text"
      },
      "source": [
        "<a href=\"https://colab.research.google.com/github/Renukumar-R/database_query_with_nlp/blob/main/SQL_Database_Query_With_NLP.ipynb\" target=\"_parent\"><img src=\"https://colab.research.google.com/assets/colab-badge.svg\" alt=\"Open In Colab\"/></a>"
      ]
    },
    {
      "cell_type": "markdown",
      "source": [
        "# Query Employee DB With NPL Using Langchain Framework"
      ],
      "metadata": {
        "id": "FK11oaC-6HJc"
      }
    },
    {
      "cell_type": "markdown",
      "source": [
        "#### This Colab notebook demonstrates how to leverage the LangChain framework for querying an employee database using Natural Language Processing (NLP) techniques. The steps involve importing necessary Python packages, setting up embeddings, creating a vector database, and employing LangChain's tools for semantic similarity and few-shot learning."
      ],
      "metadata": {
        "id": "SIPDlHayzeNH"
      }
    },
    {
      "cell_type": "markdown",
      "source": [
        "Installing all the required Python packages for a project from a requirements.txt file and import"
      ],
      "metadata": {
        "id": "LQDc17tI6W3E"
      }
    },
    {
      "cell_type": "code",
      "source": [
        "pip install -r requirements.txt"
      ],
      "metadata": {
        "id": "gemmHKWPyjYi"
      },
      "execution_count": null,
      "outputs": []
    },
    {
      "cell_type": "code",
      "source": [
        "from langchain.document_loaders.csv_loader import CSVLoader\n",
        "from langchain.embeddings import GooglePalmEmbeddings\n",
        "from langchain.vectorstores import FAISS\n",
        "from langchain.prompts.example_selector.semantic_similarity import SemanticSimilarityExampleSelector\n",
        "from langchain.llms import GooglePalm\n",
        "from langchain.utilities import SQLDatabase\n",
        "from langchain_experimental.sql import SQLDatabaseChain\n",
        "from langchain.prompts import FewShotPromptTemplate\n",
        "from langchain.chains.sql_database.prompt import PROMPT_SUFFIX\n",
        "from langchain.prompts.prompt import PromptTemplate\n",
        "from langchain.prompts.example_selector.base import BaseExampleSelector"
      ],
      "metadata": {
        "id": "1CcaO9Rp6fID"
      },
      "execution_count": 2,
      "outputs": []
    },
    {
      "cell_type": "code",
      "source": [
        "google_api_key = 'YourAPIKey'"
      ],
      "metadata": {
        "id": "iO195JM7-xvl"
      },
      "execution_count": 30,
      "outputs": []
    },
    {
      "cell_type": "markdown",
      "source": [
        "Bringing in a small set of examples and distinctive names from our database for filtering. Converting them into a vector database and retrieving similar examples from that database."
      ],
      "metadata": {
        "id": "-NwflkZEydRs"
      }
    },
    {
      "cell_type": "code",
      "source": [
        "#Initializes GooglePalmEmbeddings with your API key.\n",
        "embeddings = GooglePalmEmbeddings(google_api_key = google_api_key)\n",
        "\n",
        "#Loads data from a CSV file using CSVLoader, extracting specified metadata columns.\n",
        "loader = CSVLoader(file_path='Data_to_vector.csv',metadata_columns=['sex','company','employement_type','department'])\n",
        "data = loader.load()\n",
        "\n",
        "#Creates key vectors using FAISS based on the loaded data and GooglePalmEmbeddings.\n",
        "keyvectors = FAISS.from_documents(documents=data,embedding=embeddings)\n",
        "\n",
        "#Sets up a SemanticSimilarityExampleSelector for the key vectors.\n",
        "key_selector = SemanticSimilarityExampleSelector(vectorstore=keyvectors,k=2)"
      ],
      "metadata": {
        "id": "r94WsqtGylZM"
      },
      "execution_count": 6,
      "outputs": []
    },
    {
      "cell_type": "code",
      "source": [
        "#Load few shots from file and convert them into vectors using FAISS\n",
        "with open('few_shots.txt', 'r') as file:\n",
        "    few_shots = eval(file.read())\n",
        "few_content = [\" \".join(example.values()) for example in few_shots]\n",
        "few_shots_vector = FAISS.from_texts(few_content, embeddings, metadatas=few_shots)\n",
        "\n",
        "#Set up SemanticSimilarityExampleSelector for few shots\n",
        "few_shots_selector = SemanticSimilarityExampleSelector(vectorstore=few_shots_vector,k=2)"
      ],
      "metadata": {
        "id": "0zfRlqYj_DRc"
      },
      "execution_count": 7,
      "outputs": []
    },
    {
      "cell_type": "code",
      "source": [
        "#Initializes LLM with your API key.\n",
        "llm = GooglePalm(google_api_key=google_api_key, temperature=0.2)"
      ],
      "metadata": {
        "id": "hO2URqPH6cKz"
      },
      "execution_count": 8,
      "outputs": []
    },
    {
      "cell_type": "code",
      "source": [
        "#Set up SQLDatabase connection\n",
        "db = SQLDatabase.from_uri(\"sqlite:///employee_details.db\")"
      ],
      "metadata": {
        "id": "DUZNkVfo7cNq"
      },
      "execution_count": 9,
      "outputs": []
    },
    {
      "cell_type": "code",
      "source": [
        "#Checking the DB\n",
        "db.run(\"SELECT name FROM personal_details LIMIT 3\")"
      ],
      "metadata": {
        "colab": {
          "base_uri": "https://localhost:8080/",
          "height": 35
        },
        "id": "L85uFajXnqV_",
        "outputId": "5959ab83-ff4d-497e-c486-72e2a250f97c"
      },
      "execution_count": 10,
      "outputs": [
        {
          "output_type": "execute_result",
          "data": {
            "text/plain": [
              "\"[('Aabid',), ('Aadil',), ('Aadil Sefi',)]\""
            ],
            "application/vnd.google.colaboratory.intrinsic+json": {
              "type": "string"
            }
          },
          "metadata": {},
          "execution_count": 10
        }
      ]
    },
    {
      "cell_type": "code",
      "source": [
        "#Creating the prompt with samples to give comments of LLM\n",
        "example_prompt = PromptTemplate(\n",
        "    input_variables=[\"company\", \"department\", \"employement_type\",\"sex\",\"Question\", \"SQLQuery\", \"SQLResult\",\"Answer\"],\n",
        "    template='You are a MySQL expert. Given an input question, first create a syntactically correct MySQL query to run, then look at the results of the query and return the answer to the input question.\\nUnless the user specifies in the question a specific number of examples to obtain, query for all results as per MySQL. You can order the results to return the most informative data in the database.\\nNever query for all columns from a table. You must query only the columns that are needed to answer the question. Wrap each column name in backticks (`) to denote them as delimited identifiers.\\nPay attention to use only the column names you can see in the tables below. Be careful to not query for columns that do not exist. Also, pay attention to which column is in which table.\\nPay attention to use CURDATE() function to get the current date, if the question involves \"today\".\\n\\nIf the column filter user input values closely align with the provided reference values, selectively incorporate only those mentioned values for filtering. Filter the columns strictly based on the user\\'s specified criteria. Only consider the columns explicitly mentioned by the user for the filtering process. Adhere to the user\\'s order of preference when applying the filters.\\n\\nCompany: {company}\\nDepartment: {department}\\nEmployement Type: {employement_type}\\nSex: {sex}\\n\\nUse the following format:\\n\\nQuestion: {Question}\\nSQLQuery: {SQLQuery}\\nSQLResult: {SQLResult}\\nAnswer: {Answer}\\n\\n')"
      ],
      "metadata": {
        "id": "K3ggo7Sd708i"
      },
      "execution_count": 11,
      "outputs": []
    },
    {
      "cell_type": "code",
      "source": [
        "example_prompt"
      ],
      "metadata": {
        "colab": {
          "base_uri": "https://localhost:8080/"
        },
        "id": "maO2opDq-LPZ",
        "outputId": "4087d684-21a9-455c-9495-10d062930fc4"
      },
      "execution_count": 12,
      "outputs": [
        {
          "output_type": "execute_result",
          "data": {
            "text/plain": [
              "PromptTemplate(input_variables=['Answer', 'Question', 'SQLQuery', 'SQLResult', 'company', 'department', 'employement_type', 'sex'], template='You are a MySQL expert. Given an input question, first create a syntactically correct MySQL query to run, then look at the results of the query and return the answer to the input question.\\nUnless the user specifies in the question a specific number of examples to obtain, query for all results as per MySQL. You can order the results to return the most informative data in the database.\\nNever query for all columns from a table. You must query only the columns that are needed to answer the question. Wrap each column name in backticks (`) to denote them as delimited identifiers.\\nPay attention to use only the column names you can see in the tables below. Be careful to not query for columns that do not exist. Also, pay attention to which column is in which table.\\nPay attention to use CURDATE() function to get the current date, if the question involves \"today\".\\n\\nIf the column filter user input values closely align with the provided reference values, selectively incorporate only those mentioned values for filtering. Filter the columns strictly based on the user\\'s specified criteria. Only consider the columns explicitly mentioned by the user for the filtering process. Adhere to the user\\'s order of preference when applying the filters.\\n\\nCompany: {company}\\nDepartment: {department}\\nEmployement Type: {employement_type}\\nSex: {sex}\\n\\nUse the following format:\\n\\nQuestion: {Question}\\nSQLQuery: {SQLQuery}\\nSQLResult: {SQLResult}\\nAnswer: {Answer}\\n\\n')"
            ]
          },
          "metadata": {},
          "execution_count": 12
        }
      ]
    },
    {
      "cell_type": "code",
      "source": [
        "#In Langchain multiple example selector doesn't support so create class to process multiple selector\n",
        "class CombinedExampleSelector(BaseExampleSelector):\n",
        "    def __init__(self, example_selectors):\n",
        "        self.example_selectors = example_selectors\n",
        "\n",
        "    def select_examples(self, input_variables):\n",
        "        selected_examples = []\n",
        "        for example_selector in self.example_selectors:\n",
        "            examples = example_selector.select_examples(input_variables)\n",
        "            selected_examples.append(examples)\n",
        "        selected_examples = [{**dict1, **dict2} for dict1, dict2 in zip(selected_examples[0],selected_examples[1])]\n",
        "        return selected_examples\n",
        "\n",
        "    def add_example(self, example):\n",
        "        for example_selector in self.example_selectors:\n",
        "            example_selector.add_example(example)\n",
        "\n",
        "combined_selector = CombinedExampleSelector([key_selector, few_shots_selector])"
      ],
      "metadata": {
        "id": "8g4XwfRKccu3"
      },
      "execution_count": 13,
      "outputs": []
    },
    {
      "cell_type": "code",
      "source": [
        "#Set up FewShotPromptTemplate with a combined example selector, example prompt, and specified input variables.\n",
        "few_shot_prompt = FewShotPromptTemplate(\n",
        "    example_selector= combined_selector,\n",
        "    example_prompt=example_prompt,\n",
        "    suffix=PROMPT_SUFFIX,\n",
        "    input_variables=[\"input\", \"table_info\"], #These variables are used in the prefix and suffix\n",
        ")"
      ],
      "metadata": {
        "id": "2tFLtCB773W3"
      },
      "execution_count": 14,
      "outputs": []
    },
    {
      "cell_type": "code",
      "source": [
        "#Initialise the chain model to query db\n",
        "model = SQLDatabaseChain.from_llm(llm, db, verbose=True, prompt=few_shot_prompt)"
      ],
      "metadata": {
        "id": "k8pWwg6r75tR"
      },
      "execution_count": 15,
      "outputs": []
    },
    {
      "cell_type": "markdown",
      "source": [
        "Now ready to query the db with natural language"
      ],
      "metadata": {
        "id": "ZmqYjesvDgj9"
      }
    },
    {
      "cell_type": "code",
      "source": [
        "model.run('How many female employees have grater than 30 age in tesla and in AI department?')"
      ],
      "metadata": {
        "colab": {
          "base_uri": "https://localhost:8080/",
          "height": 191
        },
        "id": "r_zLmORe3U7g",
        "outputId": "234d66a5-be5a-45e7-e8d6-1cd2e599a0a5"
      },
      "execution_count": 29,
      "outputs": [
        {
          "output_type": "stream",
          "name": "stdout",
          "text": [
            "\n",
            "\n",
            "\u001b[1m> Entering new SQLDatabaseChain chain...\u001b[0m\n",
            "How many female employees have grater than 30 age in tesla and in AI department?\n",
            "SQLQuery:\u001b[32;1m\u001b[1;3mSELECT count(*) FROM employement_details AS e JOIN personal_details AS p ON e.employee_id = p.employee_id WHERE e.company = 'Tesla, Inc.' AND e.department = 'AI' AND p.sex = 'Female' AND p.age > 30\u001b[0m\n",
            "SQLResult: \u001b[33;1m\u001b[1;3m[(47,)]\u001b[0m\n",
            "Answer:\u001b[32;1m\u001b[1;3m47\u001b[0m\n",
            "\u001b[1m> Finished chain.\u001b[0m\n"
          ]
        },
        {
          "output_type": "execute_result",
          "data": {
            "text/plain": [
              "'47'"
            ],
            "application/vnd.google.colaboratory.intrinsic+json": {
              "type": "string"
            }
          },
          "metadata": {},
          "execution_count": 29
        }
      ]
    },
    {
      "cell_type": "code",
      "source": [],
      "metadata": {
        "id": "03tn9GVJ9HJL"
      },
      "execution_count": null,
      "outputs": []
    }
  ]
}